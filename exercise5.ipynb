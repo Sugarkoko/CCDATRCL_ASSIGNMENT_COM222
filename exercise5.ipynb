{
  "cells": [
    {
      "cell_type": "markdown",
      "metadata": {
        "id": "DN15rkKvhGBr"
      },
      "source": [
        "# Exercise 5"
      ]
    },
    {
      "cell_type": "markdown",
      "metadata": {
        "id": "oEys_5t7hGBt"
      },
      "source": [
        "#### 1. Create a dictionary of your 10 favorite songs."
      ]
    },
    {
      "cell_type": "markdown",
      "metadata": {
        "id": "T1iOtzXshGBu"
      },
      "source": [
        "Example:\n",
        "\n",
        "|KEY|VALUE|\n",
        "|---|---|\n",
        "|001|My Love|\n",
        "|002|Like a rose|"
      ]
    },
    {
      "cell_type": "code",
      "execution_count": 56,
      "metadata": {
        "id": "dprOhMRchGBu",
        "colab": {
          "base_uri": "https://localhost:8080/"
        },
        "outputId": "13425757-8ba6-4236-e1a7-fe98eec0239c"
      },
      "outputs": [
        {
          "output_type": "stream",
          "name": "stdout",
          "text": [
            "{'001': 'Multiply', '002': 'Moment of Truth', '003': 'The Day You Said Good Night', '004': 'Eroplanong Papel', '005': 'Raining In Manila', '006': 'Super Shy', '007': 'Impurities', '008': 'The way I loved you', '009': 'Gusto', '010': 'OMG'}\n"
          ]
        }
      ],
      "source": [
        " myDictionary= {\n",
        "    \"001\": \"Multiply\",\n",
        "    \"002\": \"Moment of Truth\",\n",
        "    \"003\": \"The Day You Said Good Night\",\n",
        "    \"004\": \"Eroplanong Papel\",\n",
        "    \"005\": \"Raining In Manila\",\n",
        "    \"006\": \"Super Shy\",\n",
        "    \"007\": \"Impurities\",\n",
        "    \"008\": \"The way I loved you\",\n",
        "    \"009\": \"Gusto\",\n",
        "    \"010\": \"OMG\"\n",
        " }\n",
        " print(myDictionary)"
      ]
    },
    {
      "cell_type": "markdown",
      "metadata": {
        "id": "g1FstA7XhGBv"
      },
      "source": [
        "#### 2. Loop through the dictionary by its **key** and **value**"
      ]
    },
    {
      "cell_type": "code",
      "execution_count": 57,
      "metadata": {
        "id": "QgyUTiuHhGBv",
        "colab": {
          "base_uri": "https://localhost:8080/"
        },
        "outputId": "74ab525a-9fd0-4da7-82bb-699e2dacbf25"
      },
      "outputs": [
        {
          "output_type": "stream",
          "name": "stdout",
          "text": [
            "001 Multiply\n",
            "002 Moment of Truth\n",
            "003 The Day You Said Good Night\n",
            "004 Eroplanong Papel\n",
            "005 Raining In Manila\n",
            "006 Super Shy\n",
            "007 Impurities\n",
            "008 The way I loved you\n",
            "009 Gusto\n",
            "010 OMG\n"
          ]
        }
      ],
      "source": [
        "# put your answer here\n",
        "for x, y in myDictionary.items():\n",
        "  print(x,y)"
      ]
    },
    {
      "cell_type": "markdown",
      "metadata": {
        "id": "h5N_w8-yhGBw"
      },
      "source": [
        "#### 3. Add one additional song"
      ]
    },
    {
      "cell_type": "code",
      "execution_count": 58,
      "metadata": {
        "id": "oUXMAJWEhGBw",
        "colab": {
          "base_uri": "https://localhost:8080/"
        },
        "outputId": "f82db691-655a-4d11-9f3c-4fe942bae087"
      },
      "outputs": [
        {
          "output_type": "execute_result",
          "data": {
            "text/plain": [
              "{'001': 'Multiply',\n",
              " '002': 'Moment of Truth',\n",
              " '003': 'The Day You Said Good Night',\n",
              " '004': 'Eroplanong Papel',\n",
              " '005': 'Raining In Manila',\n",
              " '006': 'Super Shy',\n",
              " '007': 'Impurities',\n",
              " '008': 'The way I loved you',\n",
              " '009': 'Gusto',\n",
              " '010': 'OMG',\n",
              " '011': 'Enchanted'}"
            ]
          },
          "metadata": {},
          "execution_count": 58
        }
      ],
      "source": [
        "# put your answer here\n",
        "myDictionary.update({\"011\":\"Enchanted\"})\n",
        "myDictionary"
      ]
    },
    {
      "cell_type": "markdown",
      "metadata": {
        "id": "7OlW5r9dhGBx"
      },
      "source": [
        "#### 4. Remove one song"
      ]
    },
    {
      "cell_type": "code",
      "execution_count": 59,
      "metadata": {
        "id": "g39mqwpDhGBx",
        "colab": {
          "base_uri": "https://localhost:8080/"
        },
        "outputId": "3321a0c2-3519-4554-8985-9a59472c4e46"
      },
      "outputs": [
        {
          "output_type": "execute_result",
          "data": {
            "text/plain": [
              "{'001': 'Multiply',\n",
              " '002': 'Moment of Truth',\n",
              " '003': 'The Day You Said Good Night',\n",
              " '004': 'Eroplanong Papel',\n",
              " '005': 'Raining In Manila',\n",
              " '006': 'Super Shy',\n",
              " '007': 'Impurities',\n",
              " '008': 'The way I loved you',\n",
              " '009': 'Gusto',\n",
              " '010': 'OMG'}"
            ]
          },
          "metadata": {},
          "execution_count": 59
        }
      ],
      "source": [
        "myDictionary.pop(\"011\")\n",
        "myDictionary"
      ]
    },
    {
      "cell_type": "markdown",
      "metadata": {
        "id": "gZ8Sr1bzhGBy"
      },
      "source": [
        "#### 5. Create a nested dictionary of your 10 favorite songs with 5 genres. Display all of the items of the nested dictionary\n",
        "\n",
        "- Each nested dictionary's key should be the genre of the song\n",
        "- Put each song in their respective genre"
      ]
    },
    {
      "cell_type": "markdown",
      "metadata": {
        "id": "US1ZaaSJhGBy"
      },
      "source": [
        "Example:\n",
        "\n",
        "\n",
        "|KEY|VALUE|\n",
        "|---|---|\n",
        "|Pop|{001, Baby}|\n",
        "|Rock|{001, Enter Sandman}|"
      ]
    },
    {
      "cell_type": "code",
      "execution_count": 60,
      "metadata": {
        "id": "z577KULkhGBz",
        "colab": {
          "base_uri": "https://localhost:8080/"
        },
        "outputId": "430060b6-81f4-4560-986b-8eb16e918815"
      },
      "outputs": [
        {
          "output_type": "execute_result",
          "data": {
            "text/plain": [
              "{'Kpop': {'001': 'Impurities', '002': 'Super Shy'},\n",
              " 'Alternative/Indie': {'001': 'Moment of Truth',\n",
              "  '002': 'The Day You Said Goodnight'},\n",
              " 'OPM': {'001': 'Eroplanong Papel', '002': 'Gusto'},\n",
              " 'Pop': {'001': 'Multiply', '002': 'Raining in Manila'},\n",
              " 'Country/Holliday': {'001': 'Enchanted', '002': 'The Way I Loved You'}}"
            ]
          },
          "metadata": {},
          "execution_count": 60
        }
      ],
      "source": [
        "myDictionary= {\n",
        "    \"Kpop\" :  {\n",
        "        \"001\": \"Impurities\",\n",
        "        \"002\": \"Super Shy\"\n",
        "    },\n",
        "    \"Alternative/Indie\": {\n",
        "        \"001\": \"Moment of Truth\",\n",
        "        \"002\": \"The Day You Said Goodnight\"\n",
        "    },\n",
        "    \"OPM\": {\n",
        "        \"001\": \"Eroplanong Papel\",\n",
        "        \"002\": \"Gusto\"\n",
        "    },\n",
        "    \"Pop\": {\n",
        "        \"001\": \"Multiply\",\n",
        "        \"002\": \"Raining in Manila\"\n",
        "    },\n",
        "    \"Country/Holliday\": {\n",
        "        \"001\":\"Enchanted\",\n",
        "        \"002\":\"The Way I Loved You\"\n",
        "    }\n",
        "}\n",
        "myDictionary"
      ]
    },
    {
      "cell_type": "markdown",
      "metadata": {
        "id": "ZMgltzOkhGBz"
      },
      "source": [
        "#### 6. Print the first song of the first genre"
      ]
    },
    {
      "cell_type": "code",
      "execution_count": 61,
      "metadata": {
        "id": "nmXUGoNWhGBz",
        "colab": {
          "base_uri": "https://localhost:8080/"
        },
        "outputId": "4289e177-ee3e-4428-9eaf-5b9212e5ed13"
      },
      "outputs": [
        {
          "output_type": "stream",
          "name": "stdout",
          "text": [
            "Impurities\n"
          ]
        }
      ],
      "source": [
        "print(myDictionary[\"Kpop\"][\"001\"])"
      ]
    },
    {
      "cell_type": "markdown",
      "metadata": {
        "id": "dEcgwp_ihGB0"
      },
      "source": [
        "#### 7. Print the first song of the last genre"
      ]
    },
    {
      "cell_type": "code",
      "execution_count": 62,
      "metadata": {
        "id": "ITbuWq2UhGB0",
        "colab": {
          "base_uri": "https://localhost:8080/"
        },
        "outputId": "63ff8ebc-9d4a-4673-eccc-8746bcdf4162"
      },
      "outputs": [
        {
          "output_type": "stream",
          "name": "stdout",
          "text": [
            "Enchanted\n"
          ]
        }
      ],
      "source": [
        "# put your answer here\n",
        "print(myDictionary[\"Country/Holliday\"][\"001\"])"
      ]
    }
  ],
  "metadata": {
    "kernelspec": {
      "display_name": "Python 3",
      "language": "python",
      "name": "python3"
    },
    "language_info": {
      "codemirror_mode": {
        "name": "ipython",
        "version": 3
      },
      "file_extension": ".py",
      "mimetype": "text/x-python",
      "name": "python",
      "nbconvert_exporter": "python",
      "pygments_lexer": "ipython3",
      "version": "3.11.4"
    },
    "orig_nbformat": 4,
    "colab": {
      "provenance": []
    }
  },
  "nbformat": 4,
  "nbformat_minor": 0
}