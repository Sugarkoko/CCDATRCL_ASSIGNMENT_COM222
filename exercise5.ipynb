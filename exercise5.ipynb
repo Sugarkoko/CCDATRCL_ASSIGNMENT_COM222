{
  "cells": [
    {
      "cell_type": "markdown",
      "metadata": {
        "id": "DN15rkKvhGBr"
      },
      "source": [
        "# Exercise 5"
      ]
    },
    {
      "cell_type": "markdown",
      "metadata": {
        "id": "oEys_5t7hGBt"
      },
      "source": [
        "#### 1. Create a dictionary of your 10 favorite songs."
      ]
    },
    {
      "cell_type": "markdown",
      "metadata": {
        "id": "T1iOtzXshGBu"
      },
      "source": [
        "Example:\n",
        "\n",
        "|KEY|VALUE|\n",
        "|---|---|\n",
        "|001|My Love|\n",
        "|002|Like a rose|"
      ]
    },
    {
      "cell_type": "code",
      "execution_count": 49,
      "metadata": {
        "id": "dprOhMRchGBu"
      },
      "outputs": [],
      "source": [
        " myDictionary= {\n",
        "    \"001\": \"Multiply\",\n",
        "    \"002\": \"Moment of Truth\",\n",
        "    \"003\": \"The Day You Said Good Night\",\n",
        "    \"004\": \"Eroplanong Papel\",\n",
        "    \"005\": \"Raining In Manila\",\n",
        "    \"006\": \"Super Shy\",\n",
        "    \"007\": \"Impurities\",\n",
        "    \"008\": \"The way I loved you\",\n",
        "    \"009\": \"Gusto\",\n",
        "    \"010\": \"OMG\"\n",
        " }"
      ]
    },
    {
      "cell_type": "markdown",
      "metadata": {
        "id": "g1FstA7XhGBv"
      },
      "source": [
        "#### 2. Loop through the dictionary by its **key** and **value**"
      ]
    },
    {
      "cell_type": "code",
      "execution_count": 50,
      "metadata": {
        "id": "QgyUTiuHhGBv",
        "colab": {
          "base_uri": "https://localhost:8080/"
        },
        "outputId": "760acaee-d65d-4589-a887-00b717f5427d"
      },
      "outputs": [
        {
          "output_type": "stream",
          "name": "stdout",
          "text": [
            "001 Multiply\n",
            "002 Moment of Truth\n",
            "003 The Day You Said Good Night\n",
            "004 Eroplanong Papel\n",
            "005 Raining In Manila\n",
            "006 Super Shy\n",
            "007 Impurities\n",
            "008 The way I loved you\n",
            "009 Gusto\n",
            "010 OMG\n"
          ]
        }
      ],
      "source": [
        "# put your answer here\n",
        "for x, y in myDictionary.items():\n",
        "  print(x,y)"
      ]
    },
    {
      "cell_type": "markdown",
      "metadata": {
        "id": "h5N_w8-yhGBw"
      },
      "source": [
        "#### 3. Add one additional song"
      ]
    },
    {
      "cell_type": "code",
      "execution_count": 51,
      "metadata": {
        "id": "oUXMAJWEhGBw",
        "colab": {
          "base_uri": "https://localhost:8080/"
        },
        "outputId": "470b623b-2f75-4bc4-b16c-da787d0af2ac"
      },
      "outputs": [
        {
          "output_type": "execute_result",
          "data": {
            "text/plain": [
              "{'001': 'Multiply',\n",
              " '002': 'Moment of Truth',\n",
              " '003': 'The Day You Said Good Night',\n",
              " '004': 'Eroplanong Papel',\n",
              " '005': 'Raining In Manila',\n",
              " '006': 'Super Shy',\n",
              " '007': 'Impurities',\n",
              " '008': 'The way I loved you',\n",
              " '009': 'Gusto',\n",
              " '010': 'OMG',\n",
              " '011': 'Enchanted'}"
            ]
          },
          "metadata": {},
          "execution_count": 51
        }
      ],
      "source": [
        "# put your answer here\n",
        "myDictionary.update({\"011\":\"Enchanted\"})\n",
        "myDictionary"
      ]
    },
    {
      "cell_type": "markdown",
      "metadata": {
        "id": "7OlW5r9dhGBx"
      },
      "source": [
        "#### 4. Remove one song"
      ]
    },
    {
      "cell_type": "code",
      "execution_count": 52,
      "metadata": {
        "id": "g39mqwpDhGBx",
        "colab": {
          "base_uri": "https://localhost:8080/"
        },
        "outputId": "d1b1320f-465c-4138-fcc3-163ce85a9848"
      },
      "outputs": [
        {
          "output_type": "execute_result",
          "data": {
            "text/plain": [
              "{'001': 'Multiply',\n",
              " '002': 'Moment of Truth',\n",
              " '003': 'The Day You Said Good Night',\n",
              " '004': 'Eroplanong Papel',\n",
              " '005': 'Raining In Manila',\n",
              " '006': 'Super Shy',\n",
              " '007': 'Impurities',\n",
              " '008': 'The way I loved you',\n",
              " '009': 'Gusto',\n",
              " '010': 'OMG'}"
            ]
          },
          "metadata": {},
          "execution_count": 52
        }
      ],
      "source": [
        "myDictionary.pop(\"011\")\n",
        "myDictionary"
      ]
    },
    {
      "cell_type": "markdown",
      "metadata": {
        "id": "gZ8Sr1bzhGBy"
      },
      "source": [
        "#### 5. Create a nested dictionary of your 10 favorite songs with 5 genres. Display all of the items of the nested dictionary\n",
        "\n",
        "- Each nested dictionary's key should be the genre of the song\n",
        "- Put each song in their respective genre"
      ]
    },
    {
      "cell_type": "markdown",
      "metadata": {
        "id": "US1ZaaSJhGBy"
      },
      "source": [
        "Example:\n",
        "\n",
        "\n",
        "|KEY|VALUE|\n",
        "|---|---|\n",
        "|Pop|{001, Baby}|\n",
        "|Rock|{001, Enter Sandman}|"
      ]
    },
    {
      "cell_type": "code",
      "execution_count": 53,
      "metadata": {
        "id": "z577KULkhGBz",
        "colab": {
          "base_uri": "https://localhost:8080/"
        },
        "outputId": "5ce7418c-23a4-480e-f101-12dc485304f8"
      },
      "outputs": [
        {
          "output_type": "execute_result",
          "data": {
            "text/plain": [
              "{'Kpop': {'001': 'Impurities', '002': 'Super Shy'},\n",
              " 'Alternative/Indie': {'001': 'Moment of Truth',\n",
              "  '002': 'The Day You Said Goodnight'},\n",
              " 'OPM': {'001': 'Eroplanong Papel', '002': 'Gusto'},\n",
              " 'Pop': {'001': 'Multiply', '002': 'Raining in Manila'},\n",
              " 'Country/Holliday': {'001': 'Enchanted', '002': 'The Way I Loved You'}}"
            ]
          },
          "metadata": {},
          "execution_count": 53
        }
      ],
      "source": [
        "myDictionary= {\n",
        "    \"Kpop\" :  {\n",
        "        \"001\": \"Impurities\",\n",
        "        \"002\": \"Super Shy\"\n",
        "    },\n",
        "    \"Alternative/Indie\": {\n",
        "        \"001\": \"Moment of Truth\",\n",
        "        \"002\": \"The Day You Said Goodnight\"\n",
        "    },\n",
        "    \"OPM\": {\n",
        "        \"001\": \"Eroplanong Papel\",\n",
        "        \"002\": \"Gusto\"\n",
        "    },\n",
        "    \"Pop\": {\n",
        "        \"001\": \"Multiply\",\n",
        "        \"002\": \"Raining in Manila\"\n",
        "    },\n",
        "    \"Country/Holliday\": {\n",
        "        \"001\":\"Enchanted\",\n",
        "        \"002\":\"The Way I Loved You\"\n",
        "    }\n",
        "}\n",
        "myDictionary"
      ]
    },
    {
      "cell_type": "markdown",
      "metadata": {
        "id": "ZMgltzOkhGBz"
      },
      "source": [
        "#### 6. Print the first song of the first genre"
      ]
    },
    {
      "cell_type": "code",
      "execution_count": 54,
      "metadata": {
        "id": "nmXUGoNWhGBz",
        "colab": {
          "base_uri": "https://localhost:8080/"
        },
        "outputId": "69982bb9-bef1-4a59-db00-8e15d3b9abce"
      },
      "outputs": [
        {
          "output_type": "stream",
          "name": "stdout",
          "text": [
            "Impurities\n"
          ]
        }
      ],
      "source": [
        "print(myDictionary[\"Kpop\"][\"001\"])"
      ]
    },
    {
      "cell_type": "markdown",
      "metadata": {
        "id": "dEcgwp_ihGB0"
      },
      "source": [
        "#### 7. Print the first song of the last genre"
      ]
    },
    {
      "cell_type": "code",
      "execution_count": 55,
      "metadata": {
        "id": "ITbuWq2UhGB0",
        "colab": {
          "base_uri": "https://localhost:8080/"
        },
        "outputId": "bb0b3b63-00ea-4b22-9b27-644101fa4833"
      },
      "outputs": [
        {
          "output_type": "stream",
          "name": "stdout",
          "text": [
            "Enchanted\n"
          ]
        }
      ],
      "source": [
        "# put your answer here\n",
        "print(myDictionary[\"Country/Holliday\"][\"001\"])"
      ]
    }
  ],
  "metadata": {
    "kernelspec": {
      "display_name": "Python 3",
      "language": "python",
      "name": "python3"
    },
    "language_info": {
      "codemirror_mode": {
        "name": "ipython",
        "version": 3
      },
      "file_extension": ".py",
      "mimetype": "text/x-python",
      "name": "python",
      "nbconvert_exporter": "python",
      "pygments_lexer": "ipython3",
      "version": "3.11.4"
    },
    "orig_nbformat": 4,
    "colab": {
      "provenance": []
    }
  },
  "nbformat": 4,
  "nbformat_minor": 0
}