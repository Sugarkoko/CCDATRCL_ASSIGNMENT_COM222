{
  "cells": [
    {
      "cell_type": "markdown",
      "metadata": {
        "id": "e3Ja3uozAJlw"
      },
      "source": [
        "# Exercise 7"
      ]
    },
    {
      "cell_type": "code",
      "execution_count": 10,
      "metadata": {
        "id": "IW6uTwU8AJly"
      },
      "outputs": [],
      "source": [
        "class Node:\n",
        "    def __init__(self, item):\n",
        "        self.left = None\n",
        "        self.right = None\n",
        "        self.val = item"
      ]
    },
    {
      "cell_type": "code",
      "execution_count": 11,
      "metadata": {
        "id": "uxVFuimIAJlz"
      },
      "outputs": [],
      "source": [
        "def evaluateExpressionTree(root):\n",
        "\n",
        "    # empty tree\n",
        "    if root is None:\n",
        "        return 0\n",
        "\n",
        "    # leaf node\n",
        "    if root.left is None and root.right is None:\n",
        "        return int(root.val)\n",
        "\n",
        "    # evaluate left tree\n",
        "    left_sum = evaluateExpressionTree(root.left)\n",
        "\n",
        "    # evaluate right tree\n",
        "    right_sum = evaluateExpressionTree(root.right)\n",
        "\n",
        "    # check which operation to apply\n",
        "    if root.val == '+':\n",
        "        return left_sum + right_sum\n",
        "\n",
        "    elif root.val == '-':\n",
        "        return left_sum - right_sum\n",
        "\n",
        "    elif root.val == '*':\n",
        "        return left_sum * right_sum\n",
        "\n",
        "    else:\n",
        "        return left_sum // right_sum"
      ]
    },
    {
      "cell_type": "code",
      "execution_count": 12,
      "metadata": {
        "id": "-xWZXA-mAJl0"
      },
      "outputs": [],
      "source": [
        "def inorder(root):\n",
        "\n",
        "    if root:\n",
        "        # Traverse left\n",
        "        inorder(root.left)\n",
        "        # Traverse root\n",
        "        print(str(root.val) + \"->\", end='')\n",
        "        # Traverse right\n",
        "        inorder(root.right)"
      ]
    },
    {
      "cell_type": "markdown",
      "metadata": {
        "id": "CVtqxh5DAJl1"
      },
      "source": [
        "#### 1. Construct a binary expression tree\n",
        "\n",
        "$ (8 + 4) * (7 - 9) $"
      ]
    },
    {
      "cell_type": "code",
      "execution_count": 13,
      "metadata": {
        "id": "CxpP0zcVAJl1",
        "outputId": "a13e7190-922e-4218-9d6f-3f4738c558f1",
        "colab": {
          "base_uri": "https://localhost:8080/"
        }
      },
      "outputs": [
        {
          "output_type": "stream",
          "name": "stdout",
          "text": [
            "8->+->4->*->7->-->9->"
          ]
        }
      ],
      "source": [
        "# put your answer here\n",
        "root= Node (\"*\")\n",
        "nodePlus=Node(\"+\")\n",
        "node8=Node (\"8\")\n",
        "node4=Node(\"4\")\n",
        "nodeMinus= Node(\"-\")\n",
        "node7= Node(\"7\")\n",
        "node9=Node(\"9\")\n",
        "\n",
        "root.left= nodePlus\n",
        "root.left.left= node8\n",
        "root.left.right= node4\n",
        "root.right=nodeMinus\n",
        "root.right.left= node7\n",
        "root.right.right= node9\n",
        "\n",
        "\n",
        "inorder(root)\n"
      ]
    },
    {
      "cell_type": "code",
      "source": [
        "evaluateExpressionTree(root)"
      ],
      "metadata": {
        "id": "vekUCA72F52q",
        "outputId": "f45bd4e2-4197-4941-805b-f3e5e6c52f60",
        "colab": {
          "base_uri": "https://localhost:8080/"
        }
      },
      "execution_count": 14,
      "outputs": [
        {
          "output_type": "execute_result",
          "data": {
            "text/plain": [
              "-24"
            ]
          },
          "metadata": {},
          "execution_count": 14
        }
      ]
    },
    {
      "cell_type": "markdown",
      "metadata": {
        "id": "jc5KHLk6AJl2"
      },
      "source": [
        "#### 2. Construct a binary expression tree\n",
        "\n",
        "$ 5 / 8 + 3 - 6 * 1 $"
      ]
    },
    {
      "cell_type": "code",
      "execution_count": 15,
      "metadata": {
        "id": "XORzqkC3AJl2",
        "colab": {
          "base_uri": "https://localhost:8080/"
        },
        "outputId": "96bf5d5e-8402-47ed-f417-8758d7919c18"
      },
      "outputs": [
        {
          "output_type": "stream",
          "name": "stdout",
          "text": [
            "5->/->8->+->3->-->6->*->1->"
          ]
        }
      ],
      "source": [
        "# put your answer here\n",
        "root= Node(\"+\")\n",
        "node5=Node(\"5\")\n",
        "nodeDivide= Node(\"/\")\n",
        "node8= Node(\"8\")\n",
        "nodePlus= Node(\"+\")\n",
        "node3=Node(\"3\")\n",
        "nodeMinus=Node(\"-\")\n",
        "node6=Node(\"6\")\n",
        "nodeMulti=Node(\"*\")\n",
        "node1= Node(\"1\")\n",
        "\n",
        "root.left=nodeDivide\n",
        "root.left.left=node5\n",
        "root.left.right=node8\n",
        "root.right=nodeMinus\n",
        "root.right.left=node3\n",
        "root.right.right=nodeMulti\n",
        "root.right.right.left=node6\n",
        "root.right.right.right=node1\n",
        "\n",
        "inorder(root)"
      ]
    },
    {
      "cell_type": "code",
      "execution_count": 16,
      "metadata": {
        "outputId": "307ed2a0-2fd5-4433-b056-9f014d1e0b9b",
        "colab": {
          "base_uri": "https://localhost:8080/"
        },
        "id": "M1c-uqB_Jju7"
      },
      "outputs": [
        {
          "output_type": "stream",
          "name": "stdout",
          "text": [
            "5->/->8->+->3->-->6->*->1->"
          ]
        }
      ],
      "source": [
        "# put your answer here\n",
        "root= Node(\"+\")\n",
        "node5=Node(\"5\")\n",
        "nodeDivide= Node(\"/\")\n",
        "node8= Node(\"8\")\n",
        "nodePlus= Node(\"+\")\n",
        "node3=Node(\"3\")\n",
        "nodeMinus=Node(\"-\")\n",
        "node6=Node(\"6\")\n",
        "nodeMulti=Node(\"*\")\n",
        "node1= Node(\"1\")\n",
        "\n",
        "root.left=nodeDivide\n",
        "root.left.left=node5\n",
        "root.left.right=node8\n",
        "root.right=nodeMinus\n",
        "root.right.left=node3\n",
        "root.right.right=nodeMulti\n",
        "root.right.right.left=node6\n",
        "root.right.right.right=node1\n",
        "\n",
        "inorder(root)"
      ]
    },
    {
      "cell_type": "code",
      "source": [
        "evaluateExpressionTree(root)"
      ],
      "metadata": {
        "id": "_8r5E2b5Kkle",
        "outputId": "e2fcd0ca-0302-4b52-b9dd-f2010ea6c760",
        "colab": {
          "base_uri": "https://localhost:8080/"
        }
      },
      "execution_count": 17,
      "outputs": [
        {
          "output_type": "execute_result",
          "data": {
            "text/plain": [
              "-3"
            ]
          },
          "metadata": {},
          "execution_count": 17
        }
      ]
    },
    {
      "cell_type": "markdown",
      "metadata": {
        "id": "tu3n5ZdWAJl2"
      },
      "source": [
        "#### 3. Construct a binary expression tree\n",
        "\n",
        "$ ((2 + 5) / 3)- (3 + 8) $"
      ]
    },
    {
      "cell_type": "code",
      "execution_count": 18,
      "metadata": {
        "id": "5GvZBxgtAJl3",
        "colab": {
          "base_uri": "https://localhost:8080/"
        },
        "outputId": "2775466c-c1bb-4d9c-9114-1b5e22fe9894"
      },
      "outputs": [
        {
          "output_type": "stream",
          "name": "stdout",
          "text": [
            "2->+->5->/->3->-->3->+->8->"
          ]
        }
      ],
      "source": [
        "# put your answer here\n",
        "root= Node(\"-\")\n",
        "nodeDivide=Node(\"/\")\n",
        "nodePlusOne=Node(\"+\")\n",
        "node2= Node(\"2\")\n",
        "node5= Node(\"5\")\n",
        "node3_1= Node(\"3\")\n",
        "nodePlusTwo= Node(\"+\")\n",
        "node3_2=Node(\"3\")\n",
        "node8=Node(\"8\")\n",
        "\n",
        "root.left=nodeDivide\n",
        "root.left.left=nodePlusOne\n",
        "root.left.left.left=node2\n",
        "root.left.left.right=node5\n",
        "root.left.right=node3_1\n",
        "\n",
        "root.right=nodePlusTwo\n",
        "root.right.left=node3_2\n",
        "root.right.right=node8\n",
        "\n",
        "inorder(root)"
      ]
    },
    {
      "cell_type": "code",
      "source": [
        "evaluateExpressionTree(root)"
      ],
      "metadata": {
        "colab": {
          "base_uri": "https://localhost:8080/"
        },
        "id": "iARAVONTM_ms",
        "outputId": "f018e24c-fb2e-435e-ec41-982e27280754"
      },
      "execution_count": 19,
      "outputs": [
        {
          "output_type": "execute_result",
          "data": {
            "text/plain": [
              "-9"
            ]
          },
          "metadata": {},
          "execution_count": 19
        }
      ]
    }
  ],
  "metadata": {
    "kernelspec": {
      "display_name": "Python 3",
      "language": "python",
      "name": "python3"
    },
    "language_info": {
      "codemirror_mode": {
        "name": "ipython",
        "version": 3
      },
      "file_extension": ".py",
      "mimetype": "text/x-python",
      "name": "python",
      "nbconvert_exporter": "python",
      "pygments_lexer": "ipython3",
      "version": "3.11.4"
    },
    "orig_nbformat": 4,
    "colab": {
      "provenance": []
    }
  },
  "nbformat": 4,
  "nbformat_minor": 0
}