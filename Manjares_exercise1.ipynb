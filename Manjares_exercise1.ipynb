{
  "cells": [
    {
      "cell_type": "markdown",
      "metadata": {
        "id": "h2vFiYhGzZOg"
      },
      "source": [
        "# Exercise 1"
      ]
    },
    {
      "cell_type": "markdown",
      "source": [
        "## Class Initialization"
      ],
      "metadata": {
        "id": "sRm6kPQozcaU"
      }
    },
    {
      "cell_type": "code",
      "execution_count": 37,
      "metadata": {
        "id": "b1u4Dt9mzZOi"
      },
      "outputs": [],
      "source": [
        "class Node:\n",
        "    def __init__(self, data):\n",
        "        self.data = data\n",
        "        self.next = None\n",
        "        self.prev = None"
      ]
    },
    {
      "cell_type": "code",
      "execution_count": 38,
      "metadata": {
        "id": "tigvHSaHzZOj"
      },
      "outputs": [],
      "source": [
        "class LinkedList:\n",
        "    def __init__(self):\n",
        "        self.head= None\n",
        "\n",
        "    def traverse(self,node):\n",
        "        while node:\n",
        "            print(node.data, end=\" -> \")\n",
        "            node= node.next"
      ]
    },
    {
      "cell_type": "code",
      "execution_count": 39,
      "metadata": {
        "id": "LIkQBioVzZOk"
      },
      "outputs": [],
      "source": [
        "class DoublyLinkedList:\n",
        "\n",
        "    def __init__(self):\n",
        "        self.head = None\n",
        "\n",
        "    def traverse(self, node):\n",
        "        while node:\n",
        "            print(node.data, end=\" -> \")\n",
        "            node = node.next\n",
        "\n",
        "    def traverse_reverse(self,node):\n",
        "        while node:\n",
        "            print(node.data, end=\" -> \")\n",
        "            node= node.prev"
      ]
    },
    {
      "cell_type": "code",
      "source": [
        "class CircularLinkedList:\n",
        "\n",
        "    def __init__(self):\n",
        "        self.head = None\n",
        "\n",
        "    def traverse(self, node):\n",
        "\n",
        "        head = node\n",
        "\n",
        "        while node:\n",
        "            print(node.data, end=\" -> \")\n",
        "            node = node.next\n",
        "            #Break to prevent infinite loop\n",
        "            if node == head:\n",
        "                break"
      ],
      "metadata": {
        "id": "TIGeG83ga4I5"
      },
      "execution_count": 40,
      "outputs": []
    },
    {
      "cell_type": "markdown",
      "metadata": {
        "id": "O68-Q1-bzZOl"
      },
      "source": [
        "#### 1. Create a Singly Linked list\n",
        "\n",
        "- Each node should contain your name and your seatmates in your row\n",
        "- Create at least 5 nodes\n",
        "- Traverse all nodes"
      ]
    },
    {
      "cell_type": "markdown",
      "source": [],
      "metadata": {
        "id": "EufagKtNX90L"
      }
    },
    {
      "cell_type": "code",
      "execution_count": 41,
      "metadata": {
        "id": "pTcx_OuPzZOl",
        "colab": {
          "base_uri": "https://localhost:8080/"
        },
        "outputId": "357abb31-aba0-43d4-934e-2a218410bbbe"
      },
      "outputs": [
        {
          "output_type": "stream",
          "name": "stdout",
          "text": [
            "Christian -> Rb -> Sajol -> Glodo -> Rimon -> "
          ]
        }
      ],
      "source": [
        "# put your code here\n",
        "linked_list= LinkedList()\n",
        "\n",
        "linked_list.head=Node(\"Christian\")\n",
        "node_b=Node(\"Rb\")\n",
        "node_c=Node(\"Sajol\")\n",
        "node_d=Node(\"Glodo\")\n",
        "node_e=Node(\"Rimon\")\n",
        "\n",
        "linked_list.head.next=node_b\n",
        "node_b.next=node_c\n",
        "node_c.next=node_d\n",
        "node_d.next=node_e\n",
        "\n",
        "linked_list.traverse(linked_list.head)"
      ]
    },
    {
      "cell_type": "markdown",
      "metadata": {
        "id": "IFgwbdw_zZOm"
      },
      "source": [
        "#### 2. Create a Doubly Linked list\n",
        "\n",
        "- Each node should contain your name and your seatmates in your row\n",
        "- Create at least 5 nodes\n",
        "- Traverse all nodes"
      ]
    },
    {
      "cell_type": "code",
      "execution_count": 42,
      "metadata": {
        "id": "8kQD2A_QzZOm",
        "colab": {
          "base_uri": "https://localhost:8080/"
        },
        "outputId": "0fd6a743-5f6d-4f85-c336-f1d0db9cc9e1"
      },
      "outputs": [
        {
          "output_type": "stream",
          "name": "stdout",
          "text": [
            "Christian -> Rb -> Sajol -> Glodo -> Rimon -> "
          ]
        }
      ],
      "source": [
        "# put your code here\n",
        "\n",
        "linked_list_doubly=DoublyLinkedList()\n",
        "\n",
        "linked_list_doubly.head=Node(\"Christian\")\n",
        "node_b=Node(\"Rb\")\n",
        "node_c=Node(\"Sajol\")\n",
        "node_d=Node(\"Glodo\")\n",
        "node_e=Node(\"Rimon\")\n",
        "\n",
        "linked_list_doubly.head.next=node_b\n",
        "node_b.prev=linked_list_doubly.head\n",
        "node_b.next=node_c\n",
        "node_c.prev=node_b\n",
        "node_c.next=node_d\n",
        "node_d.prev=node_c\n",
        "node_d.next=node_e\n",
        "node_e.prev=node_d\n",
        "\n",
        "linked_list_doubly.traverse(linked_list.head)\n"
      ]
    },
    {
      "cell_type": "code",
      "source": [
        "linked_list_doubly.traverse_reverse(node_e)"
      ],
      "metadata": {
        "colab": {
          "base_uri": "https://localhost:8080/"
        },
        "id": "-mG96Mb6b3Ry",
        "outputId": "0032598e-3634-4744-b9ad-fab35aeb5fe2"
      },
      "execution_count": 43,
      "outputs": [
        {
          "output_type": "stream",
          "name": "stdout",
          "text": [
            "Rimon -> Glodo -> Sajol -> Rb -> Christian -> "
          ]
        }
      ]
    },
    {
      "cell_type": "markdown",
      "metadata": {
        "id": "rtApbsCjzZOm"
      },
      "source": [
        "#### 3. Create a Circular Linked list\n",
        "\n",
        "- Each node should contain your name and your seatmates in your row\n",
        "- Create at least 5 nodes\n",
        "- Traverse all nodes"
      ]
    },
    {
      "cell_type": "code",
      "execution_count": 44,
      "metadata": {
        "id": "Gp1Oiq0jzZOn",
        "colab": {
          "base_uri": "https://localhost:8080/"
        },
        "outputId": "f064348f-3430-45aa-a0a7-8feab2721a7f"
      },
      "outputs": [
        {
          "output_type": "stream",
          "name": "stdout",
          "text": [
            "Christian -> Rb -> Sajol -> Glodo -> Rimon -> "
          ]
        }
      ],
      "source": [
        "# put your code here\n",
        "\n",
        "linked_list_circular=CircularLinkedList()\n",
        "\n",
        "linked_list_circular.head=Node(\"Christian\")\n",
        "node_b=Node(\"Rb\")\n",
        "node_c=Node(\"Sajol\")\n",
        "node_d=Node(\"Glodo\")\n",
        "node_e=Node(\"Rimon\")\n",
        "\n",
        "linked_list_circular.head.next=node_b\n",
        "node_b.next=node_c\n",
        "node_c.next=node_d\n",
        "node_d.next=node_e\n",
        "node_e.next=linked_list_circular.head\n",
        "\n",
        "linked_list_circular.traverse(linked_list_circular.head)"
      ]
    }
  ],
  "metadata": {
    "kernelspec": {
      "display_name": "Python 3",
      "language": "python",
      "name": "python3"
    },
    "language_info": {
      "name": "python",
      "version": "3.11.4"
    },
    "orig_nbformat": 4,
    "colab": {
      "provenance": []
    }
  },
  "nbformat": 4,
  "nbformat_minor": 0
}