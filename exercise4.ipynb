{
  "cells": [
    {
      "cell_type": "markdown",
      "metadata": {
        "id": "fCO3VeNzvGDc"
      },
      "source": [
        "# Exercise 4"
      ]
    },
    {
      "cell_type": "markdown",
      "metadata": {
        "id": "UCFGr2qPKONg"
      },
      "source": [
        "#### Pre-defined sorting algorithms"
      ]
    },
    {
      "cell_type": "code",
      "execution_count": 372,
      "metadata": {
        "id": "dXWXOLWtKONg"
      },
      "outputs": [],
      "source": [
        "def mergeSort(array):\n",
        "  steps=0\n",
        "  if len(array) > 1:\n",
        "\n",
        "        #  r is the point where the array is divided into two subarrays\n",
        "        r = len(array)//2\n",
        "        L = array[:r]\n",
        "        M = array[r:]\n",
        "\n",
        "        # Sort the two halves\n",
        "        mergeSort(L)\n",
        "        mergeSort(M)\n",
        "\n",
        "        i = j = k = 0\n",
        "\n",
        "        # Until we reach either end of either L or M, pick larger among\n",
        "        # elements L and M and place them in the correct position at A[p..r]\n",
        "        while i < len(L) and j < len(M):\n",
        "            if L[i] < M[j]:\n",
        "                array[k] = L[i]\n",
        "                i += 1\n",
        "                steps=steps+1\n",
        "            else:\n",
        "                array[k] = M[j]\n",
        "                j += 1\n",
        "                steps= steps+1\n",
        "            k += 1\n",
        "            steps=steps+1\n",
        "\n",
        "        # When we run out of elements in either L or M,\n",
        "        # pick up the remaining elements and put in A[p..r]\n",
        "        while i < len(L):\n",
        "            array[k] = L[i]\n",
        "            i += 1\n",
        "            k += 1\n",
        "            steps=steps+1\n",
        "\n",
        "        while j < len(M):\n",
        "            array[k] = M[j]\n",
        "            j += 1\n",
        "            k += 1\n",
        "            steps=steps+1\n",
        "  return steps\n",
        "# Print the array\n",
        "def printList(array):\n",
        "    for i in range(len(array)):\n",
        "        print(array[i], end=\" \")\n",
        "    print()"
      ]
    },
    {
      "cell_type": "code",
      "execution_count": 373,
      "metadata": {
        "id": "OB-JMVxvKONi"
      },
      "outputs": [],
      "source": [
        "def countingSort(array):\n",
        "    CountingSortSteps=0\n",
        "    size = len(array)\n",
        "    output = [0] * size\n",
        "\n",
        "    # Initialize count array\n",
        "    count = [0] * 10\n",
        "\n",
        "    # Store the count of each elements in count array\n",
        "    for i in range(0, size):\n",
        "        count[array[i]] += 1\n",
        "        CountingSortSteps= CountingSortSteps+1\n",
        "    # Store the cummulative count\n",
        "    for i in range(1, 10):\n",
        "        count[i] += count[i - 1]\n",
        "        CountingSortSteps= CountingSortSteps+1\n",
        "    # Find the index of each element of the original array in count array\n",
        "    # place the elements in output array\n",
        "    i = size - 1\n",
        "    CountingSortSteps= CountingSortSteps+1\n",
        "    while i >= 0:\n",
        "        output[count[array[i]] - 1] = array[i]\n",
        "        count[array[i]] -= 1\n",
        "        i -= 1\n",
        "        CountingSortSteps= CountingSortSteps+1\n",
        "\n",
        "    # Copy the sorted elements into original array\n",
        "    for i in range(0, size):\n",
        "        array[i] = output[i]\n",
        "        CountingSortSteps= CountingSortSteps+1\n",
        "\n",
        "    return CountingSortSteps"
      ]
    },
    {
      "cell_type": "code",
      "execution_count": 374,
      "metadata": {
        "id": "VXaukk4_KONj"
      },
      "outputs": [],
      "source": [
        "def insertionSort(array):\n",
        "    stepcount=0\n",
        "    for step in range(1, len(array)):\n",
        "        key = array[step]\n",
        "        j = step - 1\n",
        "        stepcount= stepcount+1\n",
        "\n",
        "        # Compare key with each element on the left of it until an element smaller than it is found\n",
        "        # For descending order, change key<array[j] to key>array[j].\n",
        "        while j >= 0 and key < array[j]:\n",
        "            array[j + 1] = array[j]\n",
        "            j = j - 1\n",
        "            stepcount= stepcount+1\n",
        "\n",
        "        # Place key at after the element just smaller than it.\n",
        "        array[j + 1] = key\n",
        "        stepcount= stepcount+1\n",
        "    return stepcount"
      ]
    },
    {
      "cell_type": "code",
      "execution_count": 375,
      "metadata": {
        "id": "b4yWHH1nKONj"
      },
      "outputs": [],
      "source": [
        "# Bubble sort in Python\n",
        "def bubbleSort(array):\n",
        "  swapCount=0\n",
        "  # loop to access each array element\n",
        "  for i in range(len(array)):\n",
        "\n",
        "    # loop to compare array elements\n",
        "    for j in range(0, len(array) - i - 1):\n",
        "\n",
        "      # compare two adjacent elements\n",
        "      # change > to < to sort in descending order\n",
        "      if array[j] > array[j + 1]:\n",
        "\n",
        "        # swapping elements if elements\n",
        "        # are not in the intended order\n",
        "        temp = array[j]\n",
        "        array[j] = array[j+1]\n",
        "        array[j+1] = temp\n",
        "        swapCount=swapCount+1\n",
        "  print(swapCount)"
      ]
    },
    {
      "cell_type": "markdown",
      "metadata": {
        "id": "6j9PZVsyvGDe"
      },
      "source": [
        "#### 1. Sort your **student number** in **ascending order**\n",
        "\n",
        "Example:\n",
        "\n",
        "**Input: 2022123456**\n",
        "\n",
        "**Output: 0122223456**"
      ]
    },
    {
      "cell_type": "code",
      "execution_count": 376,
      "metadata": {
        "id": "UuNMRCm3vGDe",
        "colab": {
          "base_uri": "https://localhost:8080/"
        },
        "outputId": "311b79c4-82f0-4d29-d172-9f5ccdea979e"
      },
      "outputs": [
        {
          "output_type": "stream",
          "name": "stdout",
          "text": [
            "Input: \n",
            "[2, 0, 2, 2, 1, 2, 3, 4, 5, 6]\n",
            "Output: \n",
            "[0, 1, 2, 2, 2, 2, 3, 4, 5, 6]\n"
          ]
        }
      ],
      "source": [
        "# put your answer here\n",
        "StudentId= [2,0,2,2,1,2,3,4,5,6]\n",
        "print(\"Input: \")\n",
        "print(StudentId)\n",
        "\n",
        "countingSort(StudentId)\n",
        "print(\"Output: \")\n",
        "print(StudentId)"
      ]
    },
    {
      "cell_type": "markdown",
      "metadata": {
        "id": "felukBjnvGDf"
      },
      "source": [
        "#### 2. Sort the **dates** in **ascending order**.\n",
        "\n",
        "dates = [\"12-25-2023\", birthday, \"01-01-2023\"]\n",
        "\n",
        "Enter your birthday in the birthday variable."
      ]
    },
    {
      "cell_type": "code",
      "execution_count": 377,
      "metadata": {
        "id": "f8xQ3N0jvGDg",
        "colab": {
          "base_uri": "https://localhost:8080/"
        },
        "outputId": "7a6caafd-70db-46e3-f620-c22f39ac7faa"
      },
      "outputs": [
        {
          "output_type": "stream",
          "name": "stdout",
          "text": [
            "Sorted Dates: ['11-20-2003', '01-01-2023', '12-25-2023']\n"
          ]
        }
      ],
      "source": [
        "def date_to_integer(date_str):\n",
        "    # Convert date in format \"mm-dd-yyyy\" to integer yyyymmdd\n",
        "    parts = date_str.split(\"-\")\n",
        "    return int(parts[2] + parts[0].zfill(2) + parts[1].zfill(2))\n",
        "\n",
        "def insertionSortDate(array):\n",
        "    for step in range(1, len(array)):\n",
        "        key = array[step]\n",
        "        j = step - 1\n",
        "\n",
        "        # Convert date strings to integers\n",
        "        key_int = date_to_integer(key)\n",
        "\n",
        "        # Compare key with each element on the left of it until an element smaller than it is found\n",
        "        while j >= 0 and key_int < date_to_integer(array[j]):\n",
        "            array[j + 1] = array[j]\n",
        "            j = j - 1\n",
        "\n",
        "        # Place key after the element just smaller than it.\n",
        "        array[j + 1] = key\n",
        "\n",
        "birthday = \"11-20-2003\"\n",
        "\n",
        "dates = [\"12-25-2023\", birthday, \"01-01-2023\"]\n",
        "\n",
        "insertionSortDate(dates)\n",
        "\n",
        "\n",
        "print(\"Sorted Dates:\", dates)\n",
        "\n",
        "\n",
        "\n"
      ]
    },
    {
      "cell_type": "markdown",
      "metadata": {
        "id": "IFDPeGZxvGDg"
      },
      "source": [
        "#### 3. Count the **total number of swaps** to sort the list below using **Bubble Sort**\n",
        "\n",
        "|3|2|5|1|4|\n",
        "|---|----|---|---|---|"
      ]
    },
    {
      "cell_type": "code",
      "execution_count": 378,
      "metadata": {
        "id": "b1ppwLcevGDg",
        "outputId": "126a8730-0fd5-40b7-ad62-40ea9675d91b",
        "colab": {
          "base_uri": "https://localhost:8080/"
        }
      },
      "outputs": [
        {
          "output_type": "stream",
          "name": "stdout",
          "text": [
            "5\n",
            "[1, 2, 3, 4, 5]\n",
            "Number of Swaps:  5\n"
          ]
        }
      ],
      "source": [
        "# put your answer here\n",
        "Data= [3,2,5,1,4]\n",
        "\n",
        "bubbleSort(Data)\n",
        "\n",
        "print(Data)\n",
        "\n",
        "totalswaps = \"5\"\n",
        "print(\"Number of Swaps: \", totalswaps)"
      ]
    },
    {
      "cell_type": "markdown",
      "metadata": {
        "id": "iO2UusQWvGDi"
      },
      "source": [
        "#### 4. Count the **total number of steps** to sort the list below using **Insertion Sort**\n",
        "\n",
        "\n",
        "|6|2|5|7|4|1|8|9|3|\n",
        "|---|---|---|---|---|---|---|---|---|"
      ]
    },
    {
      "cell_type": "code",
      "execution_count": 379,
      "metadata": {
        "id": "vq1PYEjmvGDi",
        "outputId": "558e5551-dccc-45f7-b012-d81fdfbaf7b8",
        "colab": {
          "base_uri": "https://localhost:8080/"
        }
      },
      "outputs": [
        {
          "output_type": "stream",
          "name": "stdout",
          "text": [
            "[1, 2, 3, 4, 5, 6, 7, 8, 9]\n",
            "Total number of steps:  16\n"
          ]
        }
      ],
      "source": [
        "Insertion_Data=[6,2,5,7,4,1,8,9,3]\n",
        "insertionSort(Insertion_Data)\n",
        "print(Insertion_Data)\n",
        "\n",
        "\n",
        "numberofsteps=insertionSort(Insertion_Data)\n",
        "print(\"Total number of steps: \",numberofsteps)"
      ]
    },
    {
      "cell_type": "markdown",
      "metadata": {
        "id": "jpfNCCdbvGDj"
      },
      "source": [
        "#### 5. Given the list below:\n",
        "\n",
        "\n",
        "|7|5|4|3|2|5|1|8|\n",
        "|---|---|---|---|---|---|---|---|\n",
        "\n",
        "Using **merge sort** and **counting sort**\n",
        "\n",
        "Determine which sorting algorithm is faster by counting the total number of steps for each algorithm\n"
      ]
    },
    {
      "cell_type": "code",
      "execution_count": 380,
      "metadata": {
        "id": "2YVK17cSvGDj",
        "outputId": "93e8756b-f651-48e4-8d49-7e469c8192aa",
        "colab": {
          "base_uri": "https://localhost:8080/"
        }
      },
      "outputs": [
        {
          "output_type": "stream",
          "name": "stdout",
          "text": [
            "7 5 4 3 2 5 1 8 \n",
            "Merge Sort: \n",
            "1 2 3 4 5 5 7 8 \n",
            "Merge sort steps:  12\n",
            "[1, 2, 3, 4, 5, 5, 7, 8]\n",
            "Counting Sort:  34\n",
            "Merge sort is faster\n"
          ]
        }
      ],
      "source": [
        "# put your answer here\n",
        "data=[7,5,4,3,2,5,1,8]\n",
        "\n",
        "printList(data)\n",
        "print(\"Merge Sort: \")\n",
        "mergeSort(data)\n",
        "\n",
        "merge_sort_num_steps =mergeSort(data)\n",
        "\n",
        "printList(data)\n",
        "print(\"Merge sort steps: \" , merge_sort_num_steps )\n",
        "\n",
        "\n",
        "countingSort(data)\n",
        "\n",
        "counting_sort_num_steps=countingSort(data)\n",
        "print(data)\n",
        "\n",
        "\n",
        "print(\"Counting Sort: \",counting_sort_num_steps)\n",
        "\n",
        "if merge_sort_num_steps < counting_sort_num_steps:\n",
        "    print(\"Merge sort is faster\")\n",
        "else:\n",
        "    print(\"counting sort is faster\")"
      ]
    }
  ],
  "metadata": {
    "colab": {
      "provenance": []
    },
    "kernelspec": {
      "display_name": "Python 3",
      "language": "python",
      "name": "python3"
    },
    "language_info": {
      "codemirror_mode": {
        "name": "ipython",
        "version": 3
      },
      "file_extension": ".py",
      "mimetype": "text/x-python",
      "name": "python",
      "nbconvert_exporter": "python",
      "pygments_lexer": "ipython3",
      "version": "3.11.4"
    },
    "orig_nbformat": 4
  },
  "nbformat": 4,
  "nbformat_minor": 0
}