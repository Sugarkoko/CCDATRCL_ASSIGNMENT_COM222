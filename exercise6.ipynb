{
  "cells": [
    {
      "cell_type": "markdown",
      "metadata": {
        "id": "bRZLCxPqKiX6"
      },
      "source": [
        "# Exercise 6"
      ]
    },
    {
      "cell_type": "markdown",
      "metadata": {
        "id": "p02KU0gmKiX8"
      },
      "source": [
        "#### Pre-defined code"
      ]
    },
    {
      "cell_type": "code",
      "execution_count": 7,
      "metadata": {
        "id": "ZAodnXeHKiX9"
      },
      "outputs": [],
      "source": [
        "class Node:\n",
        "    def __init__(self, item):\n",
        "        self.left = None\n",
        "        self.right = None\n",
        "        self.val = item"
      ]
    },
    {
      "cell_type": "code",
      "execution_count": 8,
      "metadata": {
        "id": "kzYYtNBaKiX-"
      },
      "outputs": [],
      "source": [
        "def inorder(root):\n",
        "\n",
        "    if root:\n",
        "        # Traverse left\n",
        "        inorder(root.left)\n",
        "        # Traverse root\n",
        "        print(str(root.val) + \"->\", end='')\n",
        "        # Traverse right\n",
        "        inorder(root.right)\n",
        "\n",
        "def postorder(root):\n",
        "\n",
        "    if root:\n",
        "        # Traverse left\n",
        "        postorder(root.left)\n",
        "        # Traverse right\n",
        "        postorder(root.right)\n",
        "        # Traverse root\n",
        "        print(str(root.val) + \"->\", end='')\n",
        "\n",
        "def preorder(root):\n",
        "\n",
        "    if root:\n",
        "        # Traverse root\n",
        "        print(str(root.val) + \"->\", end='')\n",
        "        # Traverse left\n",
        "        preorder(root.left)\n",
        "        # Traverse right\n",
        "        preorder(root.right)"
      ]
    },
    {
      "cell_type": "markdown",
      "metadata": {
        "id": "Q_fFVJzHKiX-"
      },
      "source": [
        "#### 1. Construct Create your own company org chart and put yourself as CEO.\n",
        "\n",
        "Using a Tree data structure,\n",
        "\n",
        "- Assign yourself as CEO\n",
        "\n",
        "- Assign any of your classmate as HR Director\n",
        "- Assign any of your classmate as Sales Director\n",
        "\n",
        "- Assign any of your classmate as trainee. His/her boss is the HR Director\n",
        "- Assign any of your classmate as a staff and trainee. Their boss is the Sales Director\n"
      ]
    },
    {
      "cell_type": "markdown",
      "metadata": {
        "id": "09HFoXQ7KiX_"
      },
      "source": [
        "<img src=\"https://thumbs.dreamstime.com/z/cartoon-organization-chart-some-company-93778925.jpg\"/>"
      ]
    },
    {
      "cell_type": "code",
      "execution_count": 9,
      "metadata": {
        "id": "_U0iRv4vKiX_"
      },
      "outputs": [],
      "source": [
        "# put your answer here\n",
        "root= Node(\"CEO-MANJARES\")\n",
        "nodeHR= Node(\"HR-Liporada\")\n",
        "nodeSales= Node(\"Sales-Rimon\")\n",
        "nodeTrain= Node(\"Trainee- Sajol\")\n",
        "nodeStaff= Node(\"Staff-Glodo\")\n",
        "nodeTrain2= Node(\"Trainee= Caguicla\")\n",
        "\n",
        "root.left=nodeHR\n",
        "root.left.left=nodeTrain\n",
        "\n",
        "root.right=nodeSales\n",
        "root.right.left=nodeStaff\n",
        "root.right.right=nodeTrain2\n",
        "\n"
      ]
    },
    {
      "cell_type": "markdown",
      "metadata": {
        "id": "BDV57NLvKiX_"
      },
      "source": [
        "#### 2. Traverse the tree in in-order traversal"
      ]
    },
    {
      "cell_type": "code",
      "execution_count": 10,
      "metadata": {
        "id": "blpPVZH0KiYA",
        "colab": {
          "base_uri": "https://localhost:8080/"
        },
        "outputId": "87be919f-850b-441b-d0b2-f96c0de50393"
      },
      "outputs": [
        {
          "output_type": "stream",
          "name": "stdout",
          "text": [
            "Trainee- Sajol->HR-Liporada->CEO-MANJARES->Staff-Glodo->Sales-Rimon->Trainee= Caguicla->"
          ]
        }
      ],
      "source": [
        "# put your answer here\n",
        "inorder(root)"
      ]
    },
    {
      "cell_type": "markdown",
      "metadata": {
        "id": "TY9mWVETKiYA"
      },
      "source": [
        "#### 3. Traverse the tree in pre-order traversal"
      ]
    },
    {
      "cell_type": "code",
      "execution_count": 11,
      "metadata": {
        "id": "K-SOskbxKiYA",
        "colab": {
          "base_uri": "https://localhost:8080/"
        },
        "outputId": "c67b62b7-8b19-4a29-d95f-e0112cc5bd67"
      },
      "outputs": [
        {
          "output_type": "stream",
          "name": "stdout",
          "text": [
            "CEO-MANJARES->HR-Liporada->Trainee- Sajol->Sales-Rimon->Staff-Glodo->Trainee= Caguicla->"
          ]
        }
      ],
      "source": [
        "# put your answer here\n",
        "preorder(root)"
      ]
    },
    {
      "cell_type": "markdown",
      "metadata": {
        "id": "LiUTpulxKiYB"
      },
      "source": [
        "#### 4. Traverse the tree in post-order traversal"
      ]
    },
    {
      "cell_type": "code",
      "execution_count": 12,
      "metadata": {
        "id": "aOxrYiupKiYB",
        "colab": {
          "base_uri": "https://localhost:8080/"
        },
        "outputId": "31278fe6-2640-4d59-a793-eee8197f0e19"
      },
      "outputs": [
        {
          "output_type": "stream",
          "name": "stdout",
          "text": [
            "Trainee- Sajol->HR-Liporada->Staff-Glodo->Trainee= Caguicla->Sales-Rimon->CEO-MANJARES->"
          ]
        }
      ],
      "source": [
        "# put your answer here\n",
        "postorder(root)"
      ]
    }
  ],
  "metadata": {
    "kernelspec": {
      "display_name": "Python 3",
      "language": "python",
      "name": "python3"
    },
    "language_info": {
      "codemirror_mode": {
        "name": "ipython",
        "version": 3
      },
      "file_extension": ".py",
      "mimetype": "text/x-python",
      "name": "python",
      "nbconvert_exporter": "python",
      "pygments_lexer": "ipython3",
      "version": "3.11.4"
    },
    "orig_nbformat": 4,
    "colab": {
      "provenance": []
    }
  },
  "nbformat": 4,
  "nbformat_minor": 0
}